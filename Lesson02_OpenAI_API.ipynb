{
 "cells": [
  {
   "cell_type": "markdown",
   "id": "674173a5",
   "metadata": {},
   "source": [
    "# 前提条件\n",
    "## 检查Python 版本\n",
    "```\n",
    "python --version\n",
    "```\n",
    "\n",
    "python版本：version > 3.9\n"
   ]
  },
  {
   "cell_type": "markdown",
   "id": "6f536570",
   "metadata": {},
   "source": [
    "## 更新pip\n",
    "```\n",
    "python -m pip install --upgrade pip\n",
    "```"
   ]
  },
  {
   "cell_type": "markdown",
   "id": "40e6c86b",
   "metadata": {},
   "source": [
    "## 安装openai \n",
    "```\n",
    "pip install openai\n",
    "``` "
   ]
  },
  {
   "cell_type": "markdown",
   "id": "cc7674d0",
   "metadata": {},
   "source": [
    "## 安装dotenv\n",
    "```\n",
    "pip install python-dotenv\n",
    "```\n",
    "\n"
   ]
  },
  {
   "cell_type": "markdown",
   "id": "dce3d102",
   "metadata": {},
   "source": []
  }
 ],
 "metadata": {
  "kernelspec": {
   "display_name": "Python 3",
   "language": "python",
   "name": "python3"
  },
  "language_info": {
   "codemirror_mode": {
    "name": "ipython",
    "version": 3
   },
   "file_extension": ".py",
   "mimetype": "text/x-python",
   "name": "python",
   "nbconvert_exporter": "python",
   "pygments_lexer": "ipython3",
   "version": "3.13.2"
  }
 },
 "nbformat": 4,
 "nbformat_minor": 5
}
